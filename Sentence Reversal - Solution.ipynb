{
 "cells": [
  {
   "cell_type": "markdown",
   "metadata": {},
   "source": [
    "### Solution 1:"
   ]
  },
  {
   "cell_type": "code",
   "execution_count": 1,
   "metadata": {},
   "outputs": [],
   "source": [
    "def rev_word(s):\n",
    "    \n",
    "    return ' '.join(reversed(s.split()))"
   ]
  },
  {
   "cell_type": "code",
   "execution_count": 2,
   "metadata": {},
   "outputs": [
    {
     "data": {
      "text/plain": [
       "'you? are how Kaja, Hi'"
      ]
     },
     "execution_count": 2,
     "metadata": {},
     "output_type": "execute_result"
    }
   ],
   "source": [
    "rev_word('Hi Kaja, how are you?')"
   ]
  },
  {
   "cell_type": "code",
   "execution_count": 3,
   "metadata": {},
   "outputs": [
    {
     "data": {
      "text/plain": [
       "'here spaces 3 are There'"
      ]
     },
     "execution_count": 3,
     "metadata": {},
     "output_type": "execute_result"
    }
   ],
   "source": [
    "rev_word('There   are   3   spaces   here')"
   ]
  },
  {
   "cell_type": "markdown",
   "metadata": {},
   "source": [
    "### Solution 2:\n",
    "\n",
    "Coding the algorithm manually:\n",
    "\n",
    "The idea is to go through the characters of the string and grab the first non whitespace char as the starting point for a word.\n",
    "Then, keep going until hit the whitespace, that will be the ending point for the word. Add the word to the list of words and keep going until the whole string is checked.\n",
    "In the end, reverse the list and join the words into a string."
   ]
  },
  {
   "cell_type": "code",
   "execution_count": 23,
   "metadata": {},
   "outputs": [],
   "source": [
    "def rev_word2(s):\n",
    "    \n",
    "    words = []\n",
    "    i = 0\n",
    "    \n",
    "    while i < len(s):\n",
    "        \n",
    "        if s[i] != ' ':\n",
    "            start = i\n",
    "            \n",
    "            while i < len(s) and s[i] != ' ':\n",
    "                 i += 1\n",
    "        \n",
    "            words.append(s[start:i])\n",
    "        \n",
    "        i += 1\n",
    "        \n",
    "    return words\n",
    "\n",
    "\n",
    "# BONUS: manually reverse the words in the list\n",
    "def final_output(words):\n",
    "    \n",
    "    new_words = []\n",
    "    for i in range(len(words)):\n",
    "        \n",
    "        new_words.append(words[len(words) - 1 - i])\n",
    "    \n",
    "    return ' '.join(new_words)"
   ]
  },
  {
   "cell_type": "code",
   "execution_count": 24,
   "metadata": {},
   "outputs": [],
   "source": [
    "l = rev_word2('   Hello John    how are you   ')"
   ]
  },
  {
   "cell_type": "code",
   "execution_count": 25,
   "metadata": {},
   "outputs": [
    {
     "data": {
      "text/plain": [
       "'you are how John Hello'"
      ]
     },
     "execution_count": 25,
     "metadata": {},
     "output_type": "execute_result"
    }
   ],
   "source": [
    "final_output(l)"
   ]
  }
 ],
 "metadata": {
  "kernelspec": {
   "display_name": "Python 3",
   "language": "python",
   "name": "python3"
  },
  "language_info": {
   "codemirror_mode": {
    "name": "ipython",
    "version": 3
   },
   "file_extension": ".py",
   "mimetype": "text/x-python",
   "name": "python",
   "nbconvert_exporter": "python",
   "pygments_lexer": "ipython3",
   "version": "3.7.0"
  }
 },
 "nbformat": 4,
 "nbformat_minor": 2
}
