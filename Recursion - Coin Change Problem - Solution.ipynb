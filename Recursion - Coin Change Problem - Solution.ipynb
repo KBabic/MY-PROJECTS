{
 "cells": [
  {
   "cell_type": "markdown",
   "metadata": {},
   "source": [
    "Given a target amount n and a list (array) of distinct coin values, what's the fewest coins needed to make the change amount.\n",
    "\n",
    "For example:\n",
    "\n",
    "If n = 10 and coins = [1,5] there are **3 possible ways** to make change:\n",
    "\n",
    "- 1+1+1+1+1+1+1+1+1+1\n",
    "\n",
    "- 5 + 1+1+1+1+1\n",
    "\n",
    "- 5+5\n",
    "\n",
    "With 2 coins being the **minimum amount** (2 x 5 coin)."
   ]
  },
  {
   "cell_type": "code",
   "execution_count": 1,
   "metadata": {},
   "outputs": [],
   "source": [
    "def rec_coin(target,coins):\n",
    "    \n",
    "    # set the default min number of coins:\n",
    "    min_coins = target # this is the worst case scenario - we need to use all 1 coins, so that total number is equal to target\n",
    "    \n",
    "    if target in coins:\n",
    "        return 1\n",
    "    \n",
    "    else:\n",
    "        # for every coin value in the list of coins where each coin value is <= target value:\n",
    "        for i in [c for c in coins if c <= target]:\n",
    "            # subtract the coin value from target and call the recursive function for the new target\n",
    "            # add count for number of coins, because we have to use at least one coin\n",
    "            num_coins = 1 + rec_coin(target - i, coins)\n",
    "            \n",
    "            # if count of coins is less than the min count, reset min count\n",
    "            if num_coins < min_coins:\n",
    "                min_coins = num_coins\n",
    "        \n",
    "    return min_coins\n",
    "        "
   ]
  },
  {
   "cell_type": "code",
   "execution_count": 2,
   "metadata": {},
   "outputs": [
    {
     "data": {
      "text/plain": [
       "5"
      ]
     },
     "execution_count": 2,
     "metadata": {},
     "output_type": "execute_result"
    }
   ],
   "source": [
    "rec_coin(33,[1,5,10,25])"
   ]
  },
  {
   "cell_type": "markdown",
   "metadata": {},
   "source": [
    "**Dynamic Approach**:\n",
    "\n",
    "The better solution is to remember past results, that way before computing a new minimum we can check to see if we already know the result.\n",
    "\n",
    "The *known_results* parameter shoud be started with [0] * (target+1)"
   ]
  },
  {
   "cell_type": "code",
   "execution_count": 6,
   "metadata": {},
   "outputs": [],
   "source": [
    "# if target = 5, known_results = [0,0,0,0,0,0]\n",
    "# So if for example known_results[3] > 0, we know we already have a solution for rec_coin_dyn(3)\n",
    "\n",
    "def rec_coin_dyn(target, coins, known_results):\n",
    "    \n",
    "    min_coins = target\n",
    "    \n",
    "    if target in coins:\n",
    "        return 1\n",
    "    \n",
    "    elif known_results[target] > 0:\n",
    "        return known_results[target]\n",
    "    \n",
    "    else:\n",
    "        for i in [c for c in coins if c <= target]:\n",
    "            \n",
    "            # num of coins is equal to 1 plus the min num of coins needed for what is left of target value after subtraction\n",
    "            num_coins = 1 + rec_coin_dyn(target - i, coins, known_results)\n",
    "            \n",
    "            if num_coins < min_coins:\n",
    "                \n",
    "                # reset min num of coins and known results:\n",
    "                min_coins = num_coins\n",
    "                known_results[target] = min_coins\n",
    "                \n",
    "    return min_coins"
   ]
  },
  {
   "cell_type": "code",
   "execution_count": 10,
   "metadata": {},
   "outputs": [
    {
     "data": {
      "text/plain": [
       "6"
      ]
     },
     "execution_count": 10,
     "metadata": {},
     "output_type": "execute_result"
    }
   ],
   "source": [
    "target = 33\n",
    "coins = [1,5,10]\n",
    "known_results = [0] * (target+1)\n",
    "rec_coin_dyn(target, coins, known_results)"
   ]
  },
  {
   "cell_type": "code",
   "execution_count": 11,
   "metadata": {},
   "outputs": [
    {
     "data": {
      "text/plain": [
       "8"
      ]
     },
     "execution_count": 11,
     "metadata": {},
     "output_type": "execute_result"
    }
   ],
   "source": [
    "target = 74\n",
    "coins = [1,5,10,25]\n",
    "known_results = [0] * (target+1)\n",
    "rec_coin_dyn(target, coins, known_results)"
   ]
  },
  {
   "cell_type": "code",
   "execution_count": 12,
   "metadata": {},
   "outputs": [
    {
     "data": {
      "text/plain": [
       "9"
      ]
     },
     "execution_count": 12,
     "metadata": {},
     "output_type": "execute_result"
    }
   ],
   "source": [
    "target = 198\n",
    "coins = [1,5,10,25,50]\n",
    "known_results = [0] * (target+1)\n",
    "rec_coin_dyn(target, coins, known_results)"
   ]
  },
  {
   "cell_type": "code",
   "execution_count": null,
   "metadata": {},
   "outputs": [],
   "source": []
  }
 ],
 "metadata": {
  "kernelspec": {
   "display_name": "Python 3",
   "language": "python",
   "name": "python3"
  },
  "language_info": {
   "codemirror_mode": {
    "name": "ipython",
    "version": 3
   },
   "file_extension": ".py",
   "mimetype": "text/x-python",
   "name": "python",
   "nbconvert_exporter": "python",
   "pygments_lexer": "ipython3",
   "version": "3.7.0"
  }
 },
 "nbformat": 4,
 "nbformat_minor": 2
}
