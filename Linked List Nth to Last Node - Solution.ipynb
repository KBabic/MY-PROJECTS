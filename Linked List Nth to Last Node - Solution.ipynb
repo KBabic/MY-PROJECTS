{
 "cells": [
  {
   "cell_type": "raw",
   "metadata": {},
   "source": [
    "Write a function that takes a head node and an integer value n and then returns the nth to last node in the linked list.\n",
    "\n",
    "Example:\n",
    "\n",
    "a = Node(1)\n",
    "b = Node(2)\n",
    "c = Node(3)\n",
    "d = Node(4)\n",
    "e = Node(5)\n",
    "\n",
    "a.nextnode = b\n",
    "b.nextnode = c\n",
    "c.nextnode = d\n",
    "d.nextnode = e\n",
    "\n",
    "# This would return the node d with a value of 4, because its the 2nd to last node.\n",
    "target_node = nth_to_last_node(2, a)\n",
    "\n",
    "target_node.value ==> 4"
   ]
  },
  {
   "cell_type": "markdown",
   "metadata": {},
   "source": [
    "The logic is following:\n",
    "- Set two pointers: one (left) at the head node and the other (right) at the n-th node from the head \n",
    "- Move them both towards the tail, in steps of 1 node, keeping the n distance between them\n",
    "- Once the right pointer hits the tail, we know that the left one is at the target node, which is n nodes away from the tail"
   ]
  },
  {
   "cell_type": "code",
   "execution_count": 1,
   "metadata": {},
   "outputs": [],
   "source": [
    "class Node:\n",
    "\n",
    "    def __init__(self, value):\n",
    "        self.value = value\n",
    "        self.nextnode  = None\n",
    "        \n",
    "def nth_to_last_node(n, head):\n",
    "    \n",
    "    left = head\n",
    "    right = head\n",
    "    \n",
    "    # First move the right pointer to the n-th node from the head:\n",
    "    for i in range(n-1):\n",
    "        # check the edge case if there are not enough nods: in the n-th iteration there will be no next node\n",
    "        if not right.nextnode:\n",
    "            raise LookupError('Error: n is larger than the linked list!')\n",
    "            \n",
    "        right = right.nextnode\n",
    "        \n",
    "    # Move both pointers until the right pointer reaches the tail:\n",
    "    while right.nextnode:\n",
    "        \n",
    "        left = left.nextnode\n",
    "        right = right.nextnode\n",
    "    \n",
    "    # Return the left node, because it reached the target position:\n",
    "    return left"
   ]
  },
  {
   "cell_type": "code",
   "execution_count": 2,
   "metadata": {},
   "outputs": [
    {
     "name": "stdout",
     "output_type": "stream",
     "text": [
      "ALL TEST CASES PASSED\n"
     ]
    }
   ],
   "source": [
    "\"\"\"\n",
    "RUN THIS CELL TO TEST YOUR SOLUTION AGAINST A TEST CASE \n",
    "\n",
    "PLEASE NOTE THIS IS JUST ONE CASE\n",
    "\"\"\"\n",
    "\n",
    "from nose.tools import assert_equal\n",
    "\n",
    "a = Node(1)\n",
    "b = Node(2)\n",
    "c = Node(3)\n",
    "d = Node(4)\n",
    "e = Node(5)\n",
    "\n",
    "a.nextnode = b\n",
    "b.nextnode = c\n",
    "c.nextnode = d\n",
    "d.nextnode = e\n",
    "\n",
    "####\n",
    "\n",
    "class TestNLast(object):\n",
    "    \n",
    "    def test(self,sol):\n",
    "        \n",
    "        assert_equal(sol(2,a),d)\n",
    "        print ('ALL TEST CASES PASSED')\n",
    "        \n",
    "# Run tests\n",
    "t = TestNLast()\n",
    "t.test(nth_to_last_node)"
   ]
  },
  {
   "cell_type": "code",
   "execution_count": null,
   "metadata": {},
   "outputs": [],
   "source": []
  }
 ],
 "metadata": {
  "kernelspec": {
   "display_name": "Python 3",
   "language": "python",
   "name": "python3"
  },
  "language_info": {
   "codemirror_mode": {
    "name": "ipython",
    "version": 3
   },
   "file_extension": ".py",
   "mimetype": "text/x-python",
   "name": "python",
   "nbconvert_exporter": "python",
   "pygments_lexer": "ipython3",
   "version": "3.7.0"
  }
 },
 "nbformat": 4,
 "nbformat_minor": 2
}
