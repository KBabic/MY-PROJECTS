{
 "cells": [
  {
   "cell_type": "markdown",
   "metadata": {},
   "source": [
    "A common way to avoid O(N^2) and use O(N) instead is to use the sets.\n",
    "We will make a linear search through the array and for each number, we will check if the target (the difference between k and the current number) is already in the **seen** set. If it isn't, we add the current number to the **seen** set. If it is, it means we have a pair that sums up to the value k and we will add this pair to the **output** set. In the end, we will return the length of the **output** set and print out the unique pairs."
   ]
  },
  {
   "cell_type": "code",
   "execution_count": 16,
   "metadata": {},
   "outputs": [],
   "source": [
    "def pair_sum(a,k):\n",
    "    \n",
    "    '''\n",
    "    Return the number of unique pairs of elements of the array a that sum up to a specific value k;\n",
    "    Return also the pairs themselves.\n",
    "    '''\n",
    "    # check the edge case if the lenght of the array is less than 2:\n",
    "    if len(a) < 2:\n",
    "        print(\"The array has only 1 element!\")\n",
    "    \n",
    "    seen = set()\n",
    "    output = set()\n",
    "    \n",
    "    for num in a:\n",
    "        \n",
    "        # set the target difference:\n",
    "        target = k - num\n",
    "        \n",
    "        # add it to the set if the target hasn't been seen:\n",
    "        if target not in seen:\n",
    "            seen.add(num)\n",
    "       \n",
    "        else:\n",
    "            # make the pair by putting min first, then max, to avoid duplicated reversed pairs:\n",
    "            pair = (min(target,num), max(target,num))\n",
    "            \n",
    "            # add the tuple to the output:\n",
    "            output.add(pair)\n",
    "    \n",
    "    # number of unique pairs:\n",
    "    print(len(output))\n",
    "    \n",
    "    # show the pairs:\n",
    "    print('\\n'.join(map(str,list(output))))\n",
    "    "
   ]
  },
  {
   "cell_type": "code",
   "execution_count": 17,
   "metadata": {},
   "outputs": [
    {
     "name": "stdout",
     "output_type": "stream",
     "text": [
      "2\n",
      "(1, 3)\n",
      "(2, 2)\n"
     ]
    }
   ],
   "source": [
    "pair_sum([1,3,2,2],4)"
   ]
  },
  {
   "cell_type": "code",
   "execution_count": 18,
   "metadata": {},
   "outputs": [
    {
     "name": "stdout",
     "output_type": "stream",
     "text": [
      "6\n",
      "(4, 6)\n",
      "(5, 5)\n",
      "(2, 8)\n",
      "(-1, 11)\n",
      "(1, 9)\n",
      "(3, 7)\n"
     ]
    }
   ],
   "source": [
    "pair_sum([1,9,2,8,3,7,4,6,5,5,13,14,11,13,-1],10)"
   ]
  },
  {
   "cell_type": "code",
   "execution_count": null,
   "metadata": {},
   "outputs": [],
   "source": []
  }
 ],
 "metadata": {
  "kernelspec": {
   "display_name": "Python 3",
   "language": "python",
   "name": "python3"
  },
  "language_info": {
   "codemirror_mode": {
    "name": "ipython",
    "version": 3
   },
   "file_extension": ".py",
   "mimetype": "text/x-python",
   "name": "python",
   "nbconvert_exporter": "python",
   "pygments_lexer": "ipython3",
   "version": "3.7.0"
  }
 },
 "nbformat": 4,
 "nbformat_minor": 2
}
