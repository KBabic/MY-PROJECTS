{
 "cells": [
  {
   "cell_type": "markdown",
   "metadata": {},
   "source": [
    "Make the second list by shuffling the first one and taking out a random integer.\n",
    "For each integer in the first list make a dictionary where (key, value) is (integer, number of occurences in the first list).\n",
    "Make another dictionary where (key, value) is (integer, number of occurences in the second list).\n",
    "Compare the (key, value) pairs. If the value is different, it means this key doesn't exist in the second list."
   ]
  },
  {
   "cell_type": "code",
   "execution_count": 82,
   "metadata": {},
   "outputs": [],
   "source": [
    "from random import shuffle\n",
    "from random import randint\n",
    "\n",
    "a1 = [1,2,3,4,5,6,7]\n",
    "\n",
    "def make_new_list(l):\n",
    "    \n",
    "    l1 = l.copy()\n",
    "    shuffle(l1)\n",
    "    l1.pop(randint(0,len(l1)-1))\n",
    "    return l1\n",
    "\n",
    "def finder(l1, l2):\n",
    "    \n",
    "    count1 = {}\n",
    "    count2 = {}\n",
    "    \n",
    "    for x in l1:\n",
    "        \n",
    "        if x in count1:\n",
    "            count1[x] += 1\n",
    "        else: count1[x] = 1\n",
    "            \n",
    "        if x in l2:\n",
    "            if x in count2:\n",
    "                count2[x] += 1\n",
    "            else:\n",
    "                count2[x] = 1\n",
    "        else:\n",
    "            count2[x] = 0\n",
    "    \n",
    "    # for testing:\n",
    "    #print(count1)\n",
    "    #print(count2)\n",
    "    \n",
    "    for key in count1:\n",
    "        if count1[key] != count2[key]:\n",
    "            return key\n",
    "\n"
   ]
  },
  {
   "cell_type": "code",
   "execution_count": 83,
   "metadata": {},
   "outputs": [
    {
     "data": {
      "text/plain": [
       "[4, 6, 1, 7, 3, 5]"
      ]
     },
     "execution_count": 83,
     "metadata": {},
     "output_type": "execute_result"
    }
   ],
   "source": [
    "a2 = make_new_list(a1)\n",
    "a2"
   ]
  },
  {
   "cell_type": "code",
   "execution_count": 84,
   "metadata": {},
   "outputs": [
    {
     "data": {
      "text/plain": [
       "2"
      ]
     },
     "execution_count": 84,
     "metadata": {},
     "output_type": "execute_result"
    }
   ],
   "source": [
    "finder(a1,a2)"
   ]
  },
  {
   "cell_type": "code",
   "execution_count": 88,
   "metadata": {},
   "outputs": [
    {
     "data": {
      "text/plain": [
       "[5, 4, 8, 3, 2, 9, 1, 7]"
      ]
     },
     "execution_count": 88,
     "metadata": {},
     "output_type": "execute_result"
    }
   ],
   "source": [
    "b1 = [9,8,7,6,5,4,3,2,1]\n",
    "b2 = make_new_list(b1)\n",
    "b2"
   ]
  },
  {
   "cell_type": "code",
   "execution_count": 89,
   "metadata": {},
   "outputs": [
    {
     "data": {
      "text/plain": [
       "6"
      ]
     },
     "execution_count": 89,
     "metadata": {},
     "output_type": "execute_result"
    }
   ],
   "source": [
    "finder(b1,b2)"
   ]
  },
  {
   "cell_type": "markdown",
   "metadata": {},
   "source": [
    "**IMPORTANT NOTE**:\n",
    "This code can be much cleaner and shorter with the usage of **defaultdict**, which ensures that the key is added to the dictionary if it doesn't exist already."
   ]
  },
  {
   "cell_type": "code",
   "execution_count": null,
   "metadata": {},
   "outputs": [],
   "source": []
  }
 ],
 "metadata": {
  "kernelspec": {
   "display_name": "Python 3",
   "language": "python",
   "name": "python3"
  },
  "language_info": {
   "codemirror_mode": {
    "name": "ipython",
    "version": 3
   },
   "file_extension": ".py",
   "mimetype": "text/x-python",
   "name": "python",
   "nbconvert_exporter": "python",
   "pygments_lexer": "ipython3",
   "version": "3.7.0"
  }
 },
 "nbformat": 4,
 "nbformat_minor": 2
}
