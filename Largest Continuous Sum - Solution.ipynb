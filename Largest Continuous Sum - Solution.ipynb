{
 "cells": [
  {
   "cell_type": "code",
   "execution_count": 1,
   "metadata": {},
   "outputs": [],
   "source": [
    "def large_cont_sum(arr):\n",
    "    \n",
    "    # edge case:\n",
    "    if len(arr) == 0:\n",
    "        return 0\n",
    "    \n",
    "    # set the current sum and the max sum to the value of the first element in the array:\n",
    "    cur_sum = max_sum = arr[0]\n",
    "    \n",
    "    # go through the rest of the array and set the new sums:\n",
    "    for x in arr[1:]:\n",
    "        # if cur_sum + x is less than x, it means that cur_sum is negative, so start the new cur_sum at x:\n",
    "        cur_sum = max(cur_sum + x, x)\n",
    "        # max sum is the greater between the new cur_sum and max_sum encountered so far:\n",
    "        max_sum = max(cur_sum, max_sum)\n",
    "    \n",
    "    return max_sum"
   ]
  },
  {
   "cell_type": "code",
   "execution_count": 2,
   "metadata": {},
   "outputs": [
    {
     "data": {
      "text/plain": [
       "29"
      ]
     },
     "execution_count": 2,
     "metadata": {},
     "output_type": "execute_result"
    }
   ],
   "source": [
    "large_cont_sum([1,2,-1,3,4,10,10,-10,-1])"
   ]
  },
  {
   "cell_type": "code",
   "execution_count": 3,
   "metadata": {
    "scrolled": true
   },
   "outputs": [
    {
     "data": {
      "text/plain": [
       "9"
      ]
     },
     "execution_count": 3,
     "metadata": {},
     "output_type": "execute_result"
    }
   ],
   "source": [
    "large_cont_sum([1,2,-1,3,4,-1])"
   ]
  }
 ],
 "metadata": {
  "kernelspec": {
   "display_name": "Python 3",
   "language": "python",
   "name": "python3"
  },
  "language_info": {
   "codemirror_mode": {
    "name": "ipython",
    "version": 3
   },
   "file_extension": ".py",
   "mimetype": "text/x-python",
   "name": "python",
   "nbconvert_exporter": "python",
   "pygments_lexer": "ipython3",
   "version": "3.7.0"
  }
 },
 "nbformat": 4,
 "nbformat_minor": 2
}
