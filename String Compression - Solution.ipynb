{
 "cells": [
  {
   "cell_type": "markdown",
   "metadata": {},
   "source": [
    "This solution is similar to mine, but it's using while loop instead of a for loop and it sets the string on the fly, instead at storing the values in a dictionary:"
   ]
  },
  {
   "cell_type": "code",
   "execution_count": 3,
   "metadata": {},
   "outputs": [],
   "source": [
    "def compress(s):\n",
    "    \n",
    "    if len(s) == 0:\n",
    "        return \"\"\n",
    "    \n",
    "    if len(s) == 1:\n",
    "        return s + \"1\"\n",
    "    \n",
    "    r = \"\"\n",
    "    \n",
    "    i = 1\n",
    "    cnt = 1\n",
    "    \n",
    "    while i < len(s):\n",
    "        \n",
    "        # if the letter is the same as previous one:\n",
    "        if s[i] == s[i-1]:\n",
    "            # add to the count for this letter:\n",
    "            cnt += 1\n",
    "        else:\n",
    "            \n",
    "            # take the previous letter and add it to the string with the current count for that letter:\n",
    "            r = r + s[i-1] + str(cnt)\n",
    "            # reset the count for the next letter:\n",
    "            cnt = 1\n",
    "        \n",
    "        # add to index to continue through the while loop\n",
    "        i += 1\n",
    "    \n",
    "    \n",
    "    r = r + s[i-1] + str(cnt)\n",
    "    return r"
   ]
  },
  {
   "cell_type": "code",
   "execution_count": 4,
   "metadata": {},
   "outputs": [
    {
     "data": {
      "text/plain": [
       "'A3b2B1C3D1'"
      ]
     },
     "execution_count": 4,
     "metadata": {},
     "output_type": "execute_result"
    }
   ],
   "source": [
    "compress('AAAbbBCCCD')"
   ]
  },
  {
   "cell_type": "code",
   "execution_count": null,
   "metadata": {},
   "outputs": [],
   "source": []
  }
 ],
 "metadata": {
  "kernelspec": {
   "display_name": "Python 3",
   "language": "python",
   "name": "python3"
  },
  "language_info": {
   "codemirror_mode": {
    "name": "ipython",
    "version": 3
   },
   "file_extension": ".py",
   "mimetype": "text/x-python",
   "name": "python",
   "nbconvert_exporter": "python",
   "pygments_lexer": "ipython3",
   "version": "3.7.0"
  }
 },
 "nbformat": 4,
 "nbformat_minor": 2
}
