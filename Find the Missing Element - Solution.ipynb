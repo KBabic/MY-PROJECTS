{
 "cells": [
  {
   "cell_type": "code",
   "execution_count": 1,
   "metadata": {},
   "outputs": [],
   "source": [
    "import collections\n",
    "\n",
    "def finder(a1,a2):\n",
    "    \n",
    "    # defaultdict adds key to the dictionary if it is not already there\n",
    "    d = collections.defaultdict(int)\n",
    "    \n",
    "    # increase the value by 1 for every element of the second array\n",
    "    for x in a2:\n",
    "        d[x] += 1\n",
    "        \n",
    "    # for every element of the first array, check if the value in the dict is 0\n",
    "    # if it is, it means this element doesn't exist in the second array\n",
    "    # if it is not 0, decrease the value by 1\n",
    "    \n",
    "    for y in a1:\n",
    "        if d[y] == 0:\n",
    "            return y\n",
    "        else:\n",
    "            d[y] -= 1\n",
    "            "
   ]
  },
  {
   "cell_type": "code",
   "execution_count": 2,
   "metadata": {},
   "outputs": [
    {
     "data": {
      "text/plain": [
       "1"
      ]
     },
     "execution_count": 2,
     "metadata": {},
     "output_type": "execute_result"
    }
   ],
   "source": [
    "finder([1,3,5,7,9],[3,9,7,5])"
   ]
  },
  {
   "cell_type": "code",
   "execution_count": 3,
   "metadata": {},
   "outputs": [
    {
     "data": {
      "text/plain": [
       "5"
      ]
     },
     "execution_count": 3,
     "metadata": {},
     "output_type": "execute_result"
    }
   ],
   "source": [
    "finder([5,5,7,7],[5,7,7])"
   ]
  }
 ],
 "metadata": {
  "kernelspec": {
   "display_name": "Python 3",
   "language": "python",
   "name": "python3"
  },
  "language_info": {
   "codemirror_mode": {
    "name": "ipython",
    "version": 3
   },
   "file_extension": ".py",
   "mimetype": "text/x-python",
   "name": "python",
   "nbconvert_exporter": "python",
   "pygments_lexer": "ipython3",
   "version": "3.7.0"
  }
 },
 "nbformat": 4,
 "nbformat_minor": 2
}
