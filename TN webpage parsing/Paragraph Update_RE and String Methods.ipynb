{
 "cells": [
  {
   "cell_type": "code",
   "execution_count": 1,
   "metadata": {},
   "outputs": [
    {
     "name": "stdout",
     "output_type": "stream",
     "text": [
      "Pretty printing has been turned OFF\n"
     ]
    }
   ],
   "source": [
    "pprint()"
   ]
  },
  {
   "cell_type": "code",
   "execution_count": 2,
   "metadata": {},
   "outputs": [
    {
     "data": {
      "text/plain": [
       "['80', '80', '99', '80', '80']"
      ]
     },
     "execution_count": 2,
     "metadata": {},
     "output_type": "execute_result"
    }
   ],
   "source": [
    "import re\n",
    "\n",
    "sample = 'Source: <a href=\"http://www.tango-space.com/beginnings/tango-lessons-reasons-to-start-dancing/\">Tango Space</a> Enter a milonga and the world vanishes\\\\xe2\\\\x80\\\\xa6 you\\\\xe2\\\\x80\\\\x99re swept into another era, when orchestras played all night the powerful and sophisticated rhythms of tango all night long. The tango music is intriguing, beautiful, demanding,\\\\xe2\\\\x80\\\\xa6 and will take you further into your soul than you ever imagined! Welcome to a new community! Tango dancing is the opportunity to share wonderful danced moments with beautiful people\\\\xe2\\\\x80\\\\xa6 It is also a great place to meet new people who, after so many shared classes, tandas and milongas, become close friends!'\n",
    "\n",
    "digits = re.findall('\\d{2}',sample)\n",
    "digits"
   ]
  },
  {
   "cell_type": "code",
   "execution_count": 3,
   "metadata": {},
   "outputs": [
    {
     "data": {
      "text/plain": [
       "['2', '8', '0', '6', '2', '8', '0', '9', '9', '2', '8', '0', '6', '2', '8', '0', '6']"
      ]
     },
     "execution_count": 3,
     "metadata": {},
     "output_type": "execute_result"
    }
   ],
   "source": [
    "digits = re.findall('\\d{1}',sample)\n",
    "digits"
   ]
  },
  {
   "cell_type": "code",
   "execution_count": 4,
   "metadata": {},
   "outputs": [
    {
     "data": {
      "text/plain": [
       "['2', '80', '6', '2', '80', '99', '2', '80', '6', '2', '80', '6']"
      ]
     },
     "execution_count": 4,
     "metadata": {},
     "output_type": "execute_result"
    }
   ],
   "source": [
    "digits = re.findall('\\d{1,2}',sample)\n",
    "digits"
   ]
  },
  {
   "cell_type": "code",
   "execution_count": 5,
   "metadata": {},
   "outputs": [
    {
     "data": {
      "text/plain": [
       "['Source: <a href=\"http://www.tango-space.com/beginnings/tango-lessons-reasons-to-start-dancing/\">Tango Space</a> Enter a milonga and the world vanishes\\\\xe', '\\\\x', '\\\\xa', ' you\\\\xe', '\\\\x', '\\\\x', 're swept into another era, when orchestras played all night the powerful and sophisticated rhythms of tango all night long. The tango music is intriguing, beautiful, demanding,\\\\xe', '\\\\x', '\\\\xa', ' and will take you further into your soul than you ever imagined! Welcome to a new community! Tango dancing is the opportunity to share wonderful danced moments with beautiful people\\\\xe', '\\\\x', '\\\\xa', ' It is also a great place to meet new people who, after so many shared classes, tandas and milongas, become close friends!']"
      ]
     },
     "execution_count": 5,
     "metadata": {},
     "output_type": "execute_result"
    }
   ],
   "source": [
    "text = re.findall('[\\D]*[^\\d{1,2}]',sample)\n",
    "text"
   ]
  },
  {
   "cell_type": "code",
   "execution_count": 6,
   "metadata": {},
   "outputs": [
    {
     "data": {
      "text/plain": [
       "'Source: <a href=\"http://www.tango-space.com/beginnings/tango-lessons-reasons-to-start-dancing/\">Tango Space</a> Enter a milonga and the world vanishes\\\\xe\\\\x\\\\xa you\\\\xe\\\\x\\\\xre swept into another era, when orchestras played all night the powerful and sophisticated rhythms of tango all night long. The tango music is intriguing, beautiful, demanding,\\\\xe\\\\x\\\\xa and will take you further into your soul than you ever imagined! Welcome to a new community! Tango dancing is the opportunity to share wonderful danced moments with beautiful people\\\\xe\\\\x\\\\xa It is also a great place to meet new people who, after so many shared classes, tandas and milongas, become close friends!'"
      ]
     },
     "execution_count": 6,
     "metadata": {},
     "output_type": "execute_result"
    }
   ],
   "source": [
    "str_text = \"\"\n",
    "for item in text:\n",
    "    str_text = str_text + str(item)\n",
    "str_text"
   ]
  },
  {
   "cell_type": "code",
   "execution_count": 7,
   "metadata": {},
   "outputs": [
    {
     "data": {
      "text/plain": [
       "'Source: <a href=\"http://www.tango-space.com/beginnings/tango-lessons-reasons-to-start-dancing/\">Tango Space</a> Enter a milonga and the world vanishesxexxa youxexxre swept into another era, when orchestras played all night the powerful and sophisticated rhythms of tango all night long. The tango music is intriguing, beautiful, demanding,xexxa and will take you further into your soul than you ever imagined! Welcome to a new community! Tango dancing is the opportunity to share wonderful danced moments with beautiful peoplexexxa It is also a great place to meet new people who, after so many shared classes, tandas and milongas, become close friends!'"
      ]
     },
     "execution_count": 7,
     "metadata": {},
     "output_type": "execute_result"
    }
   ],
   "source": [
    "str_text = str_text.replace(\"\\\\\",\"\")\n",
    "str_text"
   ]
  },
  {
   "cell_type": "code",
   "execution_count": 8,
   "metadata": {},
   "outputs": [
    {
     "data": {
      "text/plain": [
       "'Source: <a href=\"http://www.tango-space.com/beginnings/tango-lessons-reasons-to-start-dancing/\">Tango Space</a> Enter a milonga and the world vanishes... youxexxre swept into another era, when orchestras played all night the powerful and sophisticated rhythms of tango all night long. The tango music is intriguing, beautiful, demanding,... and will take you further into your soul than you ever imagined! Welcome to a new community! Tango dancing is the opportunity to share wonderful danced moments with beautiful people... It is also a great place to meet new people who, after so many shared classes, tandas and milongas, become close friends!'"
      ]
     },
     "execution_count": 8,
     "metadata": {},
     "output_type": "execute_result"
    }
   ],
   "source": [
    "str_text = str_text.replace(\"xexxa\",\"...\")\n",
    "str_text"
   ]
  },
  {
   "cell_type": "code",
   "execution_count": 9,
   "metadata": {},
   "outputs": [
    {
     "data": {
      "text/plain": [
       "'Source: <a href=\"http://www.tango-space.com/beginnings/tango-lessons-reasons-to-start-dancing/\">Tango Space</a> Enter a milonga and the world vanishes... you\\'re swept into another era, when orchestras played all night the powerful and sophisticated rhythms of tango all night long. The tango music is intriguing, beautiful, demanding,... and will take you further into your soul than you ever imagined! Welcome to a new community! Tango dancing is the opportunity to share wonderful danced moments with beautiful people... It is also a great place to meet new people who, after so many shared classes, tandas and milongas, become close friends!'"
      ]
     },
     "execution_count": 9,
     "metadata": {},
     "output_type": "execute_result"
    }
   ],
   "source": [
    "str_text = str_text.replace(\"xexx\",\"'\")\n",
    "str_text"
   ]
  },
  {
   "cell_type": "code",
   "execution_count": 13,
   "metadata": {},
   "outputs": [
    {
     "data": {
      "text/plain": [
       "'Source: <a href=\"http://www.tango-space.com/beginnings/tango-lessons-reasons-to-start-dancing/\">Tango Space</a> '"
      ]
     },
     "execution_count": 13,
     "metadata": {},
     "output_type": "execute_result"
    }
   ],
   "source": [
    "stripText = \"\"\n",
    "for char in str_text.split():\n",
    "    stripText = stripText + char + ' '\n",
    "    if char == 'Space</a>':\n",
    "        break\n",
    "stripText"
   ]
  },
  {
   "cell_type": "code",
   "execution_count": 14,
   "metadata": {},
   "outputs": [
    {
     "data": {
      "text/plain": [
       "\"Enter a milonga and the world vanishes... you're swept into another era, when orchestras played all night the powerful and sophisticated rhythms of tango all night long. The tango music is intriguing, beautiful, demanding,... and will take you further into your soul than you ever imagined! Welcome to a new community! Tango dancing is the opportunity to share wonderful danced moments with beautiful people... It is also a great place to meet new people who, after so many shared classes, tandas and milongas, become close friends!\""
      ]
     },
     "execution_count": 14,
     "metadata": {},
     "output_type": "execute_result"
    }
   ],
   "source": [
    "str_text = str_text.lstrip(stripText)\n",
    "str_text"
   ]
  },
  {
   "cell_type": "code",
   "execution_count": null,
   "metadata": {},
   "outputs": [],
   "source": []
  }
 ],
 "metadata": {
  "kernelspec": {
   "display_name": "Python 3",
   "language": "python",
   "name": "python3"
  },
  "language_info": {
   "codemirror_mode": {
    "name": "ipython",
    "version": 3
   },
   "file_extension": ".py",
   "mimetype": "text/x-python",
   "name": "python",
   "nbconvert_exporter": "python",
   "pygments_lexer": "ipython3",
   "version": "3.6.4"
  }
 },
 "nbformat": 4,
 "nbformat_minor": 2
}
