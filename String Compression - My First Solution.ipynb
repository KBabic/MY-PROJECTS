{
 "cells": [
  {
   "cell_type": "markdown",
   "metadata": {},
   "source": [
    "'AAAABBBBCCCCCDDEEEE' ==> 'A4B4C5D2E4'\n",
    "\n",
    "'AAB' ==> 'A2B1'\n",
    "\n",
    "'AAAaaa' ==> 'AAAaaa'"
   ]
  },
  {
   "cell_type": "markdown",
   "metadata": {},
   "source": [
    "My logic for this:\n",
    "- store the count for the first character as 1\n",
    "- iterate through the string and if the same character repeats, increase the counter by 1\n",
    "- store count value for this character\n",
    "- once the character changes, reset the counter to 1\n",
    "- store the count value for the new character"
   ]
  },
  {
   "cell_type": "code",
   "execution_count": 13,
   "metadata": {},
   "outputs": [],
   "source": [
    "def compress(s):\n",
    "    \n",
    "    # edge case 1: no characters in the string\n",
    "    if s == '':\n",
    "        return ''\n",
    "    # edge case 2: only 1 character in the string\n",
    "    if len(s) == 2:\n",
    "        compress_s = s + str(1)\n",
    "   \n",
    "    else:\n",
    "        \n",
    "        chars = {}\n",
    "        count = chars[s[0]] = 1\n",
    "        compress_s = ''\n",
    "\n",
    "        for i in range(1, len(s)):\n",
    "\n",
    "            if s[i] == s[i-1]:\n",
    "\n",
    "                count += 1\n",
    "                chars[s[i]] = count\n",
    "\n",
    "            else:\n",
    "                count = 1\n",
    "                chars[s[i]] = count\n",
    "\n",
    "        #print(chars)\n",
    "\n",
    "        for k,v in chars.items():\n",
    "            compress_s = compress_s + str(k) + str(v)\n",
    "\n",
    "    return compress_s\n",
    "    "
   ]
  },
  {
   "cell_type": "code",
   "execution_count": 14,
   "metadata": {},
   "outputs": [
    {
     "data": {
      "text/plain": [
       "'A3B1C2D5'"
      ]
     },
     "execution_count": 14,
     "metadata": {},
     "output_type": "execute_result"
    }
   ],
   "source": [
    "compress('AAABCCDDDDD')"
   ]
  },
  {
   "cell_type": "code",
   "execution_count": 15,
   "metadata": {},
   "outputs": [
    {
     "data": {
      "text/plain": [
       "'A1M4m2D2K1B3c3C2'"
      ]
     },
     "execution_count": 15,
     "metadata": {},
     "output_type": "execute_result"
    }
   ],
   "source": [
    "compress('AMMMMmmDDKBBBcccCC')"
   ]
  },
  {
   "cell_type": "code",
   "execution_count": 16,
   "metadata": {},
   "outputs": [
    {
     "name": "stdout",
     "output_type": "stream",
     "text": [
      "ALL TEST CASES PASSED\n"
     ]
    }
   ],
   "source": [
    "\"\"\"\n",
    "RUN THIS CELL TO TEST YOUR SOLUTION\n",
    "\"\"\"\n",
    "from nose.tools import assert_equal\n",
    "\n",
    "class TestCompress(object):\n",
    "\n",
    "    def test(self, sol):\n",
    "        assert_equal(sol(''), '')\n",
    "        assert_equal(sol('AABBCC'), 'A2B2C2')\n",
    "        assert_equal(sol('AAABCCDDDDD'), 'A3B1C2D5')\n",
    "        print ('ALL TEST CASES PASSED')\n",
    "\n",
    "# Run Tests\n",
    "t = TestCompress()\n",
    "t.test(compress)"
   ]
  },
  {
   "cell_type": "code",
   "execution_count": null,
   "metadata": {},
   "outputs": [],
   "source": []
  }
 ],
 "metadata": {
  "kernelspec": {
   "display_name": "Python 3",
   "language": "python",
   "name": "python3"
  },
  "language_info": {
   "codemirror_mode": {
    "name": "ipython",
    "version": 3
   },
   "file_extension": ".py",
   "mimetype": "text/x-python",
   "name": "python",
   "nbconvert_exporter": "python",
   "pygments_lexer": "ipython3",
   "version": "3.7.0"
  }
 },
 "nbformat": 4,
 "nbformat_minor": 2
}
