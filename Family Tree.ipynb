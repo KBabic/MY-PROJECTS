{
 "cells": [
  {
   "cell_type": "code",
   "execution_count": null,
   "metadata": {},
   "outputs": [],
   "source": [
    "from IPython.display import clear_output"
   ]
  },
  {
   "cell_type": "code",
   "execution_count": null,
   "metadata": {},
   "outputs": [],
   "source": [
    "class Person:\n",
    "    def __init__(self, name, birth, death=None):\n",
    "        self.name = name\n",
    "        self.birth = birth\n",
    "        self.death = death"
   ]
  },
  {
   "cell_type": "code",
   "execution_count": null,
   "metadata": {},
   "outputs": [],
   "source": [
    "relatives = ['you','grandfather','father','brother','sister','son','daughter']\n",
    "persons = {}\n",
    "\n",
    "def enter_person():\n",
    "    for relative in relatives:\n",
    "        if relative == 'you':\n",
    "            name = input('What is your name?')\n",
    "            birth = input('Your date of birth: ')\n",
    "            persons['you'] = Person(name, birth)\n",
    "        else:\n",
    "            name = input(\"Enter {}'s name: \".format(relative))\n",
    "            birth = input(\"Enter {}'s date of birth: \".format(relative))\n",
    "            death = input(\"Enter {}'s date of death if applicable: \".format(relative))\n",
    "            persons[relative] = Person(name, birth, death)"
   ]
  },
  {
   "cell_type": "code",
   "execution_count": null,
   "metadata": {},
   "outputs": [],
   "source": [
    "from anytree import Node, RenderTree\n",
    "\n",
    "def family_tree():\n",
    "    \n",
    "    grandfather = Node(persons['grandfather'].name, birth = persons['grandfather'].birth, death = persons['grandfather'].death )\n",
    "    father = Node(persons['father'].name, parent=grandfather, birth = persons['father'].birth, death = persons['father'].death)\n",
    "    you = Node(persons['you'].name, parent=father, birth = persons['you'].birth, death = '' )\n",
    "    brother = Node(persons['brother'].name, parent=father, birth = persons['brother'].birth, death = persons['brother'].death)\n",
    "    sister = Node(persons['sister'].name, parent=father, birth = persons['sister'].birth, death = persons['sister'].death)\n",
    "    son = Node(persons['son'].name, parent=you, birth = persons['son'].birth, death = persons['son'].death)\n",
    "    daughter = Node(persons['daughter'].name, parent=you, birth = persons['daughter'].birth, death = persons['daughter'].death)\n",
    "    for pre, fill, node in RenderTree(grandfather):\n",
    "        if node.name != '':\n",
    "            print(\"{}{}, ({})-({})\".format(pre, node.name, node.birth, node.death))"
   ]
  },
  {
   "cell_type": "code",
   "execution_count": null,
   "metadata": {},
   "outputs": [],
   "source": [
    "enter_person()\n",
    "clear_output()\n",
    "\n",
    "print('Here is your family tree:\\n')\n",
    "family_tree()\n"
   ]
  },
  {
   "cell_type": "code",
   "execution_count": null,
   "metadata": {},
   "outputs": [],
   "source": []
  },
  {
   "cell_type": "code",
   "execution_count": null,
   "metadata": {},
   "outputs": [],
   "source": []
  },
  {
   "cell_type": "code",
   "execution_count": null,
   "metadata": {},
   "outputs": [],
   "source": []
  }
 ],
 "metadata": {
  "kernelspec": {
   "display_name": "Python 3",
   "language": "python",
   "name": "python3"
  },
  "language_info": {
   "codemirror_mode": {
    "name": "ipython",
    "version": 3
   },
   "file_extension": ".py",
   "mimetype": "text/x-python",
   "name": "python",
   "nbconvert_exporter": "python",
   "pygments_lexer": "ipython3",
   "version": "3.6.4"
  }
 },
 "nbformat": 4,
 "nbformat_minor": 2
}
